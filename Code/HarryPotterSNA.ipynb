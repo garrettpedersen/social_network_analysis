{
 "cells": [
  {
   "cell_type": "markdown",
   "id": "a6d362fe",
   "metadata": {},
   "source": [
    "# Harry Potter Network"
   ]
  },
  {
   "cell_type": "markdown",
   "id": "b87234bd",
   "metadata": {},
   "source": [
    "### Import packages"
   ]
  },
  {
   "cell_type": "code",
   "execution_count": null,
   "id": "888cc1be",
   "metadata": {},
   "outputs": [],
   "source": [
    "# Generic Python\n",
    "import os\n",
    "import re\n",
    "from tqdm import tqdm\n",
    "import pandas as pd\n",
    "from itertools import combinations\n",
    "from collections import Counter\n",
    "\n",
    "# viz\n",
    "import matplotlib.pyplot as plt\n",
    "from matplotlib.pyplot import figure, text\n",
    "\n",
    "### NLP\n",
    "# nltk\n",
    "import nltk\n",
    "nltk.download('punkt')\n",
    "from nltk.tokenize import sent_tokenize\n",
    "\n",
    "# spacy\n",
    "import spacy\n",
    "from spacy import displacy\n",
    "nlp = spacy.load('en_core_web_sm')\n",
    "\n",
    "### SNA\n",
    "# networkx\n",
    "import networkx as nx\n",
    "from networkx.algorithms import community as nx_comm"
   ]
  },
  {
   "cell_type": "markdown",
   "id": "cc54a63e",
   "metadata": {},
   "source": [
    "## NLP"
   ]
  },
  {
   "cell_type": "markdown",
   "id": "fa456294",
   "metadata": {},
   "source": [
    "### Import Data"
   ]
  },
  {
   "cell_type": "code",
   "execution_count": null,
   "id": "cad0ecbe",
   "metadata": {},
   "outputs": [],
   "source": [
    "# ingest data\n",
    "harry_potter_1_path = r\"../Data/nlp/texts/J. K. Rowling - Harry Potter 1 - Sorcerer's Stone.txt\""
   ]
  },
  {
   "cell_type": "code",
   "execution_count": null,
   "id": "b70cb3a6",
   "metadata": {},
   "outputs": [],
   "source": [
    "with open(harry_potter_1_path) as f:\n",
    "    harry_potter = f.read()"
   ]
  },
  {
   "cell_type": "markdown",
   "id": "40f3894d",
   "metadata": {},
   "source": [
    "### Clean text\n",
    "Since using spaCy NER, will keep sentence structure and capitalization the same. Remove newline characters."
   ]
  },
  {
   "cell_type": "code",
   "execution_count": null,
   "id": "b2bff9c8",
   "metadata": {},
   "outputs": [],
   "source": [
    "# remove newline characters\n",
    "harry_potter_clean = harry_potter.replace('\\n', ' ')"
   ]
  },
  {
   "cell_type": "markdown",
   "id": "1ca45474",
   "metadata": {},
   "source": [
    "### Tokenize into sentences\n",
    "Using NLTK's sentence tokenizer"
   ]
  },
  {
   "cell_type": "code",
   "execution_count": null,
   "id": "ad3d0768",
   "metadata": {},
   "outputs": [],
   "source": [
    "# each element is a sentence in the text\n",
    "hp_sentences = sent_tokenize(harry_potter_clean)"
   ]
  },
  {
   "cell_type": "markdown",
   "id": "d2e79d88",
   "metadata": {},
   "source": [
    "### Find characters using spaCy Named Entity Recognition (NER)"
   ]
  },
  {
   "cell_type": "code",
   "execution_count": null,
   "id": "5aae98b5",
   "metadata": {},
   "outputs": [],
   "source": [
    "# example of spaCy NER\n",
    "doc = nlp(hp_sentences[420])\n",
    "displacy.render(doc, style=\"ent\", jupyter=True)"
   ]
  },
  {
   "cell_type": "code",
   "execution_count": null,
   "id": "17b2b60a",
   "metadata": {},
   "outputs": [],
   "source": [
    "# run NER over all sentences\n",
    "sent_docs = [nlp(sentence) for sentence in tqdm(hp_sentences)]"
   ]
  },
  {
   "cell_type": "code",
   "execution_count": null,
   "id": "6f73d6ec",
   "metadata": {},
   "outputs": [],
   "source": [
    "# get list of entities and their type in each sentence\n",
    "sent_ents = []\n",
    "for doc in sent_docs:\n",
    "    sent_ents.append([{e.text: e.label_} for e in doc.ents if e.label_ not in ('DATE', 'TIME', 'ORDINAL', 'CARDINAL')])\n",
    "    "
   ]
  },
  {
   "cell_type": "code",
   "execution_count": null,
   "id": "6da36212",
   "metadata": {},
   "outputs": [],
   "source": [
    "# compose a list of all entities\n",
    "all_ents = []\n",
    "for sent in sent_ents:\n",
    "    for entity in sent:\n",
    "        all_ents.append(entity)\n"
   ]
  },
  {
   "cell_type": "code",
   "execution_count": null,
   "id": "7ea5eb66",
   "metadata": {},
   "outputs": [],
   "source": [
    "# count entities\n",
    "entity_text = [list(ent.keys())[0] for ent in all_ents]\n",
    "ent_counts = pd.DataFrame(Counter(entity_text), index=[0]).transpose().reset_index()\n",
    "ent_counts_final = ent_counts.rename(columns={'index': 'ent', 0:'count'}).sort_values(by='count', ascending=False)\n",
    "ent_counts_final[:50]"
   ]
  },
  {
   "cell_type": "markdown",
   "id": "5d9e4d56",
   "metadata": {},
   "source": [
    "### Name cleaning\n",
    "Character names will appear in many different variations (i.e. Harry Potter, Harry, Potter, Mr. Potter, etc...). Create a dictionary with a key containing the cleaned name and the values compose a list of the variations."
   ]
  },
  {
   "cell_type": "code",
   "execution_count": null,
   "id": "7be03526",
   "metadata": {},
   "outputs": [],
   "source": [
    "# Capture name variations in dict\n",
    "character2name_variants = {'Harry Potter': ['Harry', 'Potter', 'Harry Potter'],\n",
    "                           'Vernon Dursley': ['Dursley', 'Vernon', 'Uncle Vernon', 'Mr. Dursley', 'Dursleys', 'Vernon Dursley'],\n",
    "                           'Petunia Dursley': ['Petunia', 'Mrs. Dursley', 'Petunia Dursley', 'Aunt Petunia'],\n",
    "                           'Dudley Dursley': ['Dudley', 'Dudley Dursley', 'Duddy'], \n",
    "                           'Lily Potter': ['Lily', 'Potters', 'Lily Potter'], \n",
    "                           'James Potter': ['James', 'Potters', 'James Potter'], \n",
    "                           'Albus Dumbledore': ['Dumbledore', 'Albus', 'Albus Dumbledore'], \n",
    "                           'Voldemort': ['YouKnow', 'You Know Who', 'He Who Must Not Be Named', 'Voldemort'],\n",
    "                           'Minerva McGonagall': ['McGonagall', 'Professor McGonagall', 'Minerva', 'Minerva McGonagall'],\n",
    "                           'Severus Snape': ['Snape', 'Severus', 'Severus Snape', 'Professor Snape'], \n",
    "                           'Ron Weasley': ['Ron', 'Weasley', 'Ron Weasley', 'Ronald Weasley'], \n",
    "                           'Hermione Granger': ['Hermione', 'Granger', 'Hermione Granger'],\n",
    "                           'Draco Malfoy': ['Malfoy', 'Draco', 'Draco Malfoy'], \n",
    "                           'Vincent Crabbe': ['Crabbe', 'Vincent Crabbe'], \n",
    "                           'Gregory Goyle': ['Goyle', 'Gregory Goyle'], \n",
    "                           'Hagrid': ['Hagrid', 'Rubeus Hagrid'],\n",
    "                           'Quirrell': ['Quirrell', 'Professor Quirrell'], \n",
    "                           'Percy Weasley': ['Percy', 'Percy Weasley'],\n",
    "                           'Fred Weasley': ['Fred', 'Fred Weasley'], \n",
    "                           'George Weasley': ['George', 'George Weasley'],\n",
    "                           'Neville Longbottom': ['Neville', 'Longbottom', 'Neville Longbottom']\n",
    "                }\n",
    "\n",
    "# switch keys and values - easier for later look up \n",
    "name_variant2character = {}\n",
    "for k, v in character2name_variants.items():\n",
    "    for variant in v:\n",
    "        name_variant2character[variant] = k\n",
    "        "
   ]
  },
  {
   "cell_type": "markdown",
   "id": "b6cc9af1",
   "metadata": {},
   "source": [
    "### Find co-occurrence of entities within the same sentence"
   ]
  },
  {
   "cell_type": "code",
   "execution_count": null,
   "id": "96dea8b7",
   "metadata": {},
   "outputs": [],
   "source": [
    "# build co-occurrence data frame\n",
    "co_occurrence = pd.DataFrame(columns = ['ent1', 'ent1_type', 'ent2', 'ent2_type'])\n",
    "for i, sentence in enumerate(sent_ents):\n",
    "    if len(sentence) == 2:\n",
    "        k0 = list(sentence[0].keys())[0]\n",
    "        v0 = list(sentence[0].values())[0]\n",
    "        k1 = list(sentence[1].keys())[0]\n",
    "        v1 = list(sentence[1].values())[0]\n",
    "        co_occurrence = pd.concat([co_occurrence, pd.DataFrame({'ent1': k0, 'ent1_type': v0, 'ent2': k1, 'ent2_type': v1}, index=[i])])\n",
    "    elif len(sentence) > 2:\n",
    "        comb = combinations(sentence, 2)\n",
    "        for c in comb:\n",
    "            k0 = list(c[0].keys())[0]\n",
    "            v0 = list(c[0].values())[0]\n",
    "            k1 = list(c[1].keys())[0]\n",
    "            v1 = list(c[1].values())[0]\n",
    "            co_occurrence = pd.concat([co_occurrence, pd.DataFrame({'ent1': k0, 'ent1_type': v0, 'ent2': k1, 'ent2_type': v1}, index=[i])])\n",
    "    else:\n",
    "        continue\n",
    "        "
   ]
  },
  {
   "cell_type": "code",
   "execution_count": null,
   "id": "a20bd41f",
   "metadata": {},
   "outputs": [],
   "source": [
    "# remove type variables\n",
    "connections_df = co_occurrence[['ent1', 'ent2']].reset_index().drop(columns=['index'])\n",
    "connections_df"
   ]
  },
  {
   "cell_type": "code",
   "execution_count": null,
   "id": "64813a93",
   "metadata": {},
   "outputs": [],
   "source": [
    "# standardize names in connections_df and ent_counts\n",
    "for k, v in name_variant2character.items():\n",
    "    connections_df = connections_df.replace(k, v)\n",
    "    ent_counts_final = ent_counts_final.replace(k, v)\n"
   ]
  },
  {
   "cell_type": "code",
   "execution_count": null,
   "id": "d6ee37e8",
   "metadata": {},
   "outputs": [],
   "source": [
    "# standardize ent counts\n",
    "grouped = ent_counts_final.groupby('ent').sum('count')\n",
    "ent_counts_cleaned = grouped.sort_values(by='count', ascending=False).reset_index()\n",
    "ent_counts_cleaned"
   ]
  },
  {
   "cell_type": "code",
   "execution_count": null,
   "id": "22ba507a",
   "metadata": {},
   "outputs": [],
   "source": [
    "# count characters for later visualization effects\n",
    "character2count = {row['ent']: row['count'] for index, row in ent_counts_cleaned.iterrows()}"
   ]
  },
  {
   "cell_type": "code",
   "execution_count": null,
   "id": "51befc25",
   "metadata": {},
   "outputs": [],
   "source": [
    "# filter by most common names\n",
    "filtered_connections = connections_df[connections_df['ent1'].isin(character2name_variants.keys()) & connections_df['ent2'].isin(character2name_variants.keys())].reset_index().drop(columns=['index'])\n",
    "filtered_connections\n"
   ]
  },
  {
   "cell_type": "markdown",
   "id": "11835d5a",
   "metadata": {},
   "source": [
    "# Network"
   ]
  },
  {
   "cell_type": "code",
   "execution_count": null,
   "id": "4a370324",
   "metadata": {},
   "outputs": [],
   "source": [
    "### create nodes and relationship lists\n",
    "# nodes and node count\n",
    "characters = list(set(list(filtered_connections['ent1'])+list(filtered_connections['ent2'])))\n",
    "character_count = [character2count[char] for char in characters]\n",
    "\n",
    "# edges and weights\n",
    "relationships = [tuple([row['ent1'], row['ent2']]) for index, row in filtered_connections.iterrows()]\n",
    "relationship2weight = dict(Counter(relationships))\n",
    "edges_with_weights=[(k[0],k[1],v) for k, v in relationship2weight.items()]"
   ]
  },
  {
   "cell_type": "markdown",
   "id": "3cb180bf",
   "metadata": {},
   "source": [
    "## Visualizations"
   ]
  },
  {
   "cell_type": "markdown",
   "id": "d156b913",
   "metadata": {},
   "source": [
    "### 1. Base Network"
   ]
  },
  {
   "cell_type": "code",
   "execution_count": null,
   "id": "794deefb",
   "metadata": {},
   "outputs": [],
   "source": [
    "# initiate graph object\n",
    "G = nx.Graph()\n",
    "\n",
    "# add nodes and edges\n",
    "G.add_nodes_from(characters)\n",
    "G.add_edges_from(relationships)\n",
    "\n",
    "# draw\n",
    "nx.draw(G, with_labels=True)\n"
   ]
  },
  {
   "cell_type": "code",
   "execution_count": null,
   "id": "e1cce618",
   "metadata": {},
   "outputs": [],
   "source": [
    "# initiate graph object\n",
    "G = nx.Graph()\n",
    "\n",
    "# add nodes and edges\n",
    "G.add_nodes_from(characters)\n",
    "G.add_edges_from(relationships)\n",
    "\n",
    "# remove self loops\n",
    "G.remove_edges_from(nx.selfloop_edges(G))\n",
    "\n",
    "# base graph\n",
    "figure(figsize=(10,6))\n",
    "pos = nx.spring_layout(G)\n",
    "nx.draw(G, pos=pos, with_labels=False)\n",
    "for node, (x, y) in pos.items():\n",
    "    text(x, y, node, fontsize=10, ha='center', va='center')\n",
    "plt.title(\"Harry Potter and the Sorceror's Stone\")\n",
    "plt.show()"
   ]
  },
  {
   "cell_type": "markdown",
   "id": "fc0d5f3c",
   "metadata": {},
   "source": [
    "### 2. Size nodes according to count"
   ]
  },
  {
   "cell_type": "code",
   "execution_count": null,
   "id": "ba509af1",
   "metadata": {},
   "outputs": [],
   "source": [
    "# initiate graph object\n",
    "G = nx.Graph()\n",
    "\n",
    "# add nodes and edges\n",
    "G.add_nodes_from(characters)\n",
    "G.add_edges_from(relationships)\n",
    "\n",
    "# remove self loops\n",
    "G.remove_edges_from(nx.selfloop_edges(G))\n",
    "\n",
    "figure(figsize=(10,6))\n",
    "pos = nx.spring_layout(G)\n",
    "### size nodes based on counts\n",
    "nx.draw(G, pos=pos, with_labels=False, node_size=character_count)\n",
    "for node, (x, y) in pos.items():\n",
    "    text(x, y, node, fontsize=10, ha='center', va='center')\n",
    "plt.title(\"Harry Potter and the Sorceror's Stone\")\n",
    "plt.show()"
   ]
  },
  {
   "cell_type": "markdown",
   "id": "88c02e44",
   "metadata": {},
   "source": [
    "### 3. Weight edges based on relationship counts"
   ]
  },
  {
   "cell_type": "code",
   "execution_count": null,
   "id": "38b7b5d1",
   "metadata": {},
   "outputs": [],
   "source": [
    "# initiate graph object\n",
    "G = nx.Graph()\n",
    "\n",
    "# add nodes and edges\n",
    "G.add_nodes_from(characters)\n",
    "G.add_weighted_edges_from(edges_with_weights)\n",
    "\n",
    "# remove self loops\n",
    "G.remove_edges_from(nx.selfloop_edges(G))\n",
    "\n",
    "# get list of weights\n",
    "weights = list(relationship2weight.values())\n",
    "\n",
    "# draw graph\n",
    "figure(figsize=(10,6))\n",
    "pos = nx.spring_layout(G)\n",
    "nx.draw(G, pos=pos, with_labels=False, node_size=character_count, width=[0.1*w for w in weights])\n",
    "for node, (x, y) in pos.items():\n",
    "    text(x, y, node, fontsize=10, ha='center', va='center')\n",
    "plt.title(\"Harry Potter and the Sorceror's Stone\")\n",
    "plt.show()\n"
   ]
  },
  {
   "cell_type": "markdown",
   "id": "1b609731",
   "metadata": {},
   "source": [
    "## Centrality"
   ]
  },
  {
   "cell_type": "code",
   "execution_count": null,
   "id": "2e17de8d",
   "metadata": {},
   "outputs": [],
   "source": [
    "# degree centrality\n",
    "degree_centrality = nx.degree_centrality(G)\n",
    "\n",
    "# betweenness centrality\n",
    "betweenness_centrality = nx.betweenness_centrality(G)\n",
    "\n",
    "# eigenvector centrality\n",
    "eigenvector_centrality = nx.eigenvector_centrality(G)\n",
    "\n",
    "# page rank\n",
    "page_rank = nx.pagerank(G)"
   ]
  },
  {
   "cell_type": "markdown",
   "id": "9ea00336",
   "metadata": {},
   "source": [
    "### 1. Degree Centrality"
   ]
  },
  {
   "cell_type": "code",
   "execution_count": null,
   "id": "b8aa1d02",
   "metadata": {},
   "outputs": [],
   "source": [
    "# initiate graph object\n",
    "G = nx.Graph()\n",
    "\n",
    "# add nodes and edges\n",
    "G.add_nodes_from(characters)\n",
    "G.add_weighted_edges_from(edges_with_weights)\n",
    "\n",
    "# remove self loops\n",
    "G.remove_edges_from(nx.selfloop_edges(G))\n",
    "\n",
    "# get list of weights\n",
    "weights = list(relationship2weight.values())\n",
    "\n",
    "# assign centrality score to color map\n",
    "color_map = [degree_centrality[node] for node in G]\n",
    "\n",
    "# draw graph\n",
    "figure(figsize=(10,6))\n",
    "pos = nx.spring_layout(G)\n",
    "nx.draw(G, pos=pos, with_labels=False, \n",
    "        node_size=character_count, \n",
    "        width=[0.1*w for w in weights], \n",
    "        node_color = color_map, vmin=0, vmax=max(color_map), cmap = plt.cm.get_cmap('rainbow'))\n",
    "for node, (x, y) in pos.items():\n",
    "    text(x, y, node, fontsize=10, ha='center', va='center')\n",
    "plt.title(\"Harry Potter and the Sorceror's Stone\")\n",
    "plt.show()\n"
   ]
  },
  {
   "cell_type": "markdown",
   "id": "f4a469da",
   "metadata": {},
   "source": [
    "### 2. Betweenness Centrality"
   ]
  },
  {
   "cell_type": "code",
   "execution_count": null,
   "id": "aa8a270a",
   "metadata": {},
   "outputs": [],
   "source": [
    "# initiate graph object\n",
    "G = nx.Graph()\n",
    "\n",
    "# add nodes and edges\n",
    "G.add_nodes_from(characters)\n",
    "G.add_weighted_edges_from(edges_with_weights)\n",
    "\n",
    "# remove self loops\n",
    "G.remove_edges_from(nx.selfloop_edges(G))\n",
    "\n",
    "# get list of weights\n",
    "weights = list(relationship2weight.values())\n",
    "\n",
    "# assign centrality score to color map\n",
    "color_map = [betweenness_centrality[node] for node in G]\n",
    "\n",
    "# draw graph\n",
    "figure(figsize=(10,6))\n",
    "pos = nx.spring_layout(G)\n",
    "nx.draw(G, pos=pos, with_labels=False, \n",
    "        node_size=character_count, \n",
    "        width=[0.1*w for w in weights], \n",
    "        node_color = color_map, vmin=0, vmax=max(color_map), cmap = plt.cm.get_cmap('rainbow'))\n",
    "for node, (x, y) in pos.items():\n",
    "    text(x, y, node, fontsize=10, ha='center', va='center')\n",
    "plt.title(\"Harry Potter and the Sorceror's Stone\")\n",
    "plt.show()\n"
   ]
  },
  {
   "cell_type": "markdown",
   "id": "288a3772",
   "metadata": {},
   "source": [
    "### 3. Eigenvector Centrality"
   ]
  },
  {
   "cell_type": "code",
   "execution_count": null,
   "id": "3153234d",
   "metadata": {},
   "outputs": [],
   "source": [
    "# initiate graph object\n",
    "G = nx.Graph()\n",
    "\n",
    "# add nodes and edges\n",
    "G.add_nodes_from(characters)\n",
    "G.add_weighted_edges_from(edges_with_weights)\n",
    "\n",
    "# remove self loops\n",
    "G.remove_edges_from(nx.selfloop_edges(G))\n",
    "\n",
    "# get list of weights\n",
    "weights = list(relationship2weight.values())\n",
    "\n",
    "# assign centrality score to color map\n",
    "color_map = [eigenvector_centrality[node] for node in G]\n",
    "\n",
    "# draw graph\n",
    "figure(figsize=(10,6))\n",
    "pos = nx.spring_layout(G)\n",
    "nx.draw(G, pos=pos, with_labels=False, \n",
    "        node_size=character_count, \n",
    "        width=[0.1*w for w in weights], \n",
    "        node_color = color_map, vmin=0, vmax=max(color_map), cmap = plt.cm.get_cmap('rainbow'))\n",
    "for node, (x, y) in pos.items():\n",
    "    text(x, y, node, fontsize=10, ha='center', va='center')\n",
    "plt.title(\"Harry Potter and the Sorceror's Stone\")\n",
    "plt.show()\n"
   ]
  },
  {
   "cell_type": "markdown",
   "id": "3d18b729",
   "metadata": {},
   "source": [
    "### 4. PageRank"
   ]
  },
  {
   "cell_type": "code",
   "execution_count": null,
   "id": "b9fa29d3",
   "metadata": {},
   "outputs": [],
   "source": [
    "# initiate graph object\n",
    "G = nx.Graph()\n",
    "\n",
    "# add nodes and edges\n",
    "G.add_nodes_from(characters)\n",
    "G.add_weighted_edges_from(edges_with_weights)\n",
    "\n",
    "# remove self loops\n",
    "G.remove_edges_from(nx.selfloop_edges(G))\n",
    "\n",
    "# get list of weights\n",
    "weights = list(relationship2weight.values())\n",
    "\n",
    "# assign centrality score to color map\n",
    "color_map = [page_rank[node] for node in G]\n",
    "\n",
    "# draw graph\n",
    "figure(figsize=(10,6))\n",
    "pos = nx.spring_layout(G)\n",
    "nx.draw(G, pos=pos, with_labels=False, \n",
    "        node_size=character_count, \n",
    "        width=[0.1*w for w in weights], \n",
    "        node_color = color_map, vmin=0, vmax=max(color_map), cmap = plt.cm.get_cmap('rainbow'))\n",
    "for node, (x, y) in pos.items():\n",
    "    text(x, y, node, fontsize=10, ha='center', va='center')\n",
    "plt.title(\"Harry Potter and the Sorceror's Stone\")\n",
    "plt.show()\n"
   ]
  },
  {
   "cell_type": "markdown",
   "id": "ff4f726b",
   "metadata": {},
   "source": [
    "## Community Detection\n"
   ]
  },
  {
   "cell_type": "code",
   "execution_count": null,
   "id": "ba3eff90",
   "metadata": {},
   "outputs": [],
   "source": [
    "# initiate graph object\n",
    "G = nx.Graph()\n",
    "\n",
    "# add nodes and edges\n",
    "G.add_nodes_from(characters)\n",
    "G.add_weighted_edges_from(edges_with_weights)\n",
    "\n",
    "# remove self loops\n",
    "G.remove_edges_from(nx.selfloop_edges(G))\n",
    "\n",
    "# get list of weights\n",
    "weights = list(relationship2weight.values())\n",
    "\n",
    "# run Louvain community detection\n",
    "louvain = nx_comm.louvain_communities(G)\n",
    "\n",
    "# color based on run of Louvain results above\n",
    "color_map = []\n",
    "for node in G:\n",
    "    if node in ['Quirrell', 'Severus Snape', 'Voldemort']:\n",
    "        color_map.append('green')\n",
    "    elif node in ['Vernon Dursley', 'Petunia Dursley', 'James Potter', 'Dudley Dursley']: \n",
    "        color_map.append('gray') \n",
    "    elif node in ['Albus Dumbledore', 'Percy Weasley', 'Minerva McGonagall', 'Hermione Granger']:\n",
    "        color_map.append('yellow')\n",
    "    elif node in ['Ron Weasley', 'Hagrid', 'Harry Potter']:\n",
    "        color_map.append('red')\n",
    "    elif node in ['Draco Malfoy', 'Vincent Crabbe', 'Neville Longbottom', 'George Weasley', 'Gregory Goyle', 'Fred Weasley']:\n",
    "        color_map.append('blue')\n",
    "    else:\n",
    "        color_map.append('tan')\n",
    "\n",
    "# draw graph\n",
    "figure(figsize=(10,6))\n",
    "pos = nx.spring_layout(G)\n",
    "nx.draw(G, pos=pos, with_labels=False, \n",
    "        node_size=character_count, \n",
    "        width=[0.1*w for w in weights], \n",
    "        node_color = color_map)\n",
    "for node, (x, y) in pos.items():\n",
    "    text(x, y, node, fontsize=10, ha='center', va='center')\n",
    "plt.title(\"Harry Potter and the Sorceror's Stone\")\n",
    "plt.show()\n"
   ]
  },
  {
   "cell_type": "code",
   "execution_count": null,
   "id": "18b05a35",
   "metadata": {},
   "outputs": [],
   "source": []
  }
 ],
 "metadata": {
  "kernelspec": {
   "display_name": "Python 3 (ipykernel)",
   "language": "python",
   "name": "python3"
  },
  "language_info": {
   "codemirror_mode": {
    "name": "ipython",
    "version": 3
   },
   "file_extension": ".py",
   "mimetype": "text/x-python",
   "name": "python",
   "nbconvert_exporter": "python",
   "pygments_lexer": "ipython3",
   "version": "3.10.10"
  }
 },
 "nbformat": 4,
 "nbformat_minor": 5
}
